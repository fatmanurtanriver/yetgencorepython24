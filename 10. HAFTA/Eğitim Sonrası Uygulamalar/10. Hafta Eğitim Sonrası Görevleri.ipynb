{
 "cells": [
  {
   "attachments": {},
   "cell_type": "markdown",
   "metadata": {},
   "source": [
    "# Problem 1 "
   ]
  },
  {
   "cell_type": "code",
   "execution_count": 4,
   "metadata": {},
   "outputs": [
    {
     "name": "stdout",
     "output_type": "stream",
     "text": [
      "[ 3  5  7  8 16]\n"
     ]
    }
   ],
   "source": [
    "# 1 - numpy kütüphanesini import edin\n",
    "import numpy as np\n",
    "# 2 - 5 elemanlı bir numpy array oluşturun\n",
    "a=np.array([16,7,3,8,5])\n",
    "# 3 - Oluşturduğunuz arrayi küçükten büyüğe sıralayın.\n",
    "print(np.sort(a))"
   ]
  },
  {
   "attachments": {},
   "cell_type": "markdown",
   "metadata": {},
   "source": [
    "# Problem 2"
   ]
  },
  {
   "cell_type": "code",
   "execution_count": 37,
   "metadata": {},
   "outputs": [
    {
     "name": "stdout",
     "output_type": "stream",
     "text": [
      "[10 15 30 45 60]\n",
      "[ 5  6  7  8  9 10 11 12 13 14]\n",
      "[ 5 10 15 20 25 30 35 40 45 50 55 60 65 70 75 80 85 90 95]\n",
      "[  0.  25.  50.  75. 100.]\n",
      "[25 16 21 12 12]\n",
      "[-0.72140474  0.85906259 -0.1445865   0.20056483  0.55610407  0.20634041\n",
      " -0.82652881  0.40281674 -0.49896442  0.16616965]\n",
      "[[21 34 16 28 45]\n",
      " [17 42 19 24 22]\n",
      " [25 31 34 46 33]]\n",
      "[ 63 107  69  98 100]\n",
      "[144 124 169]\n",
      "16\n",
      "46\n",
      "29.133333333333333\n",
      "46\n",
      "[19 13 18 12 19 13 16 11]\n",
      "[19 13 18]\n",
      "[11 16 13 19 12 18 13 19]\n",
      "[[19 13 18 12]\n",
      " [19 13 16 11]]\n",
      "[19 13 18 12]\n",
      "16\n",
      "[19 19]\n",
      "[[361 169 324 144]\n",
      " [361 169 256 121]]\n",
      "[[ 25 -37 -41  20  41]\n",
      " [-30 -12 -10  49 -33]\n",
      " [ 25 -12  18 -10 -44]\n",
      " [-13  15  14 -43 -15]\n",
      " [ -6  44 -44 -38  22]]\n",
      "[20 18 14 44 22]\n"
     ]
    }
   ],
   "source": [
    "# 1- (10,15,30,45,60) değerlerine sahip numpy dizisi oluşturunuz.\n",
    "x=np.array([10,15,30,45,60])\n",
    "print(x)\n",
    "\n",
    "# 2- (5-15) arasındaki sayılarla numpy dizisi oluşturunuz.\n",
    "y=np.arange(5,15)\n",
    "print(y)\n",
    "\n",
    "# 3- (50-100) arasında 5'er 5'er artarak numpy dizisi oluşturunuz.\n",
    "z=np.arange(5,100,5)\n",
    "print(z)\n",
    "\n",
    "# 4- 10 elemanlı sıfırlardan oluşan bir dizi oluşturunuz.\n",
    "np.zeros(10)\n",
    "\n",
    "# 5- 10 elemanlı birlerden oluşan bir dizi oluşturunuz.\n",
    "np.ones(10)\n",
    "\n",
    "# 6- (0-100) arasında eşit aralıklı 5 sayı üretin.\n",
    "t=np.linspace(0,100,5)\n",
    "print(t)\n",
    "\n",
    "# 7- (10-30) arasında rastgele 5 tane tamsayı üretin.\n",
    "v=np.random.randint(10,30, size=5)\n",
    "print(v)\n",
    "\n",
    "# 8- [-1 ile 1] arasında 10 adet sayı üretin.\n",
    "c=np.random.uniform(-1,1, size=10)\n",
    "print(c)\n",
    "\n",
    "# 9- (3x5) boyutlarında (10-50) arasında rastgele bir matris oluşturunuz.\n",
    "b=np.random.randint(10,50, size=(3,5))\n",
    "print(b)\n",
    "\n",
    "\n",
    "# 10- Üretilen matrisin satır ve sütun sayıları toplamlarını hesaplayınız ?\n",
    "print(b.sum(axis=0))\n",
    "print(b.sum(axis=1))\n",
    "\n",
    "# 11- Üretilen matrisin en büyük, en küçük ve ortalaması nedir ?\n",
    "print(np.min(b))\n",
    "print(np.max(b))\n",
    "print(np.mean(b))\n",
    "# 12- Üretilen matrisin en büyük değerinin indeksi kaçtır ?\n",
    "max_deger=b[0,0]\n",
    "for i in range(b.shape[0]):\n",
    "    for z in range(b.shape[1]):\n",
    "        if b[i,z]>max_deger:\n",
    "            max_deger=b[i,z]\n",
    "print(max_deger)\n",
    "\n",
    "# 13- (10-20) arasındaki sayıları içeren dizinin ilk 3 elemanını seçiniz.\n",
    "d=np.random.randint(10,20, size=8)\n",
    "print(d)\n",
    "print(d[:3])\n",
    "\n",
    "# 14- Üretilen dizinin elemanlarını tersten yazdırın.\n",
    "print(d[::-1])\n",
    "\n",
    "# 15- Üretilen matrisin ilk satırını seçiniz.\n",
    "d1=d.reshape(2,4)\n",
    "print(d1)\n",
    "print(d1[0,:])\n",
    "\n",
    "# 16- Üretilen matrisin 2.satır 3.sütundaki elemanı hangisidir ?\n",
    "print(d1[1,2])\n",
    "\n",
    "# 17- Üretilen matrisin tüm satırlardaki ilk elemanı seçiniz.\n",
    "print(d1[:,0])\n",
    "\n",
    "# 18- Üretilen matrisin her bir elemanının karesini alınız.\n",
    "print(d1**2)\n",
    "\n",
    "# 19- Üretilen matris elemanlarının hangisi pozitif çift sayıdır ? Aralığı (-50,+50) arasında yapınız.\n",
    "e=np.random.randint(-50,50,size=[5,5])\n",
    "print(e)\n",
    "e1=e[e>0]\n",
    "print(e1[e1%2==0])"
   ]
  }
 ],
 "metadata": {
  "kernelspec": {
   "display_name": "Python 3",
   "language": "python",
   "name": "python3"
  },
  "language_info": {
   "codemirror_mode": {
    "name": "ipython",
    "version": 3
   },
   "file_extension": ".py",
   "mimetype": "text/x-python",
   "name": "python",
   "nbconvert_exporter": "python",
   "pygments_lexer": "ipython3",
   "version": "3.12.3"
  },
  "orig_nbformat": 4,
  "vscode": {
   "interpreter": {
    "hash": "5026d2d6e7aaaaba093def813beadff083d8733e4a511af01735cbabd156995d"
   }
  }
 },
 "nbformat": 4,
 "nbformat_minor": 2
}
